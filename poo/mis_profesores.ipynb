{
 "cells": [
  {
   "cell_type": "code",
   "execution_count": 1,
   "metadata": {},
   "outputs": [],
   "source": [
    "import pandas as pd\n",
    "import matplotlib.pyplot as plt\n",
    "import html_to_dataframe as td\n",
    "import numpy as np\n",
    "\n",
    "df = td.to_dataframe()"
   ]
  },
  {
   "cell_type": "code",
   "execution_count": 2,
   "metadata": {},
   "outputs": [],
   "source": [
    "new_names = {\n",
    "    'i' : 'ID', \n",
    "    'n' : 'Nombre', \n",
    "    'a' : 'Apellido', \n",
    "    'd' : 'Departamento / Facultad',\n",
    "    'm' : '# de calif.',\n",
    "    'c' : 'Promedio'\n",
    "    }\n",
    "\n",
    "df = df.rename(columns = new_names)\n",
    "\n",
    "new_types = {\n",
    "    'ID' : 'int',\n",
    "    '# de calif.' : 'int',\n",
    "    'Promedio' : 'float'\n",
    "}\n",
    "\n",
    "df = df.astype(new_types)"
   ]
  },
  {
   "cell_type": "code",
   "execution_count": 57,
   "metadata": {},
   "outputs": [],
   "source": [
    "# Limpiar valores nulos, eliminar columnas irrelevantes\n",
    "null_values = df.loc[df[\"Promedio\"].isnull()]\n",
    "df = df.dropna()"
   ]
  },
  {
   "cell_type": "code",
   "execution_count": 58,
   "metadata": {},
   "outputs": [],
   "source": [
    "df['Razon'] = df['# de calif.'] / df['Promedio']"
   ]
  },
  {
   "cell_type": "code",
   "execution_count": 79,
   "metadata": {},
   "outputs": [],
   "source": [
    "resultados_max = df.loc[\n",
    "    (df[\"Promedio\"] > df[\"Promedio\"].mean()) & \n",
    "    (df[\"# de calif.\"] > df[\"# de calif.\"].mean()) & \n",
    "    (df['Razon'] > df['Razon'].mean())]\n",
    "\n",
    "resultados_max = resultados_max.sort_values(by = \"Razon\", ascending = False).reset_index(drop = True).head(10)\n",
    "resultados_max = resultados_max.sort_values(by = 'Promedio', ascending = False).reset_index(drop = True).head(10)"
   ]
  },
  {
   "cell_type": "code",
   "execution_count": 81,
   "metadata": {},
   "outputs": [
    {
     "name": "stdout",
     "output_type": "stream",
     "text": [
      "       ID           Nombre             Apellido  # de calif.  Promedio  \\\n",
      "0   78882        Jose Luis              Montoya           64    2.7188   \n",
      "3  107176   Homero Enrique  De la Fuente Garcia           41    3.4878   \n",
      "5   79063        Alejandro    Villarreal Mojica           36    3.6111   \n",
      "1   34766   Sofía Herminia            De La Paz           72    4.0833   \n",
      "6   75187        Alejandro                 Lara           40    4.1000   \n",
      "2   62512      Rosa Alicia    Gámez de la Garza           72    4.6528   \n",
      "8   95110        Guillermo              Sanchez           44    4.7500   \n",
      "9   56302  Blanca Patricia       Sánchez Juárez           50    5.5400   \n",
      "4   56416              eva              mirella           64    6.3281   \n",
      "7   78772         Gilberto              Tenorio           66    7.0606   \n",
      "\n",
      "       Razon  \n",
      "0  23.539797  \n",
      "3  11.755261  \n",
      "5   9.969261  \n",
      "1  17.632797  \n",
      "6   9.756098  \n",
      "2  15.474553  \n",
      "8   9.263158  \n",
      "9   9.025271  \n",
      "4  10.113620  \n",
      "7   9.347648  \n"
     ]
    }
   ],
   "source": [
    "resultados_min = df.loc[\n",
    "    (df[\"Promedio\"] < df[\"Promedio\"].mean()) & \n",
    "    (df[\"# de calif.\"] > df[\"# de calif.\"].mean()) & \n",
    "    (df['Razon'] > df['Razon'].mean())]\n",
    "\n",
    "resultados_min = resultados_min.sort_values(by = \"Razon\", ascending = False).reset_index(drop = True).head(10)\n",
    "resultados_min = resultados_min.sort_values(by = 'Promedio')\n",
    "\n",
    "print(resultados_min)"
   ]
  },
  {
   "cell_type": "code",
   "execution_count": 62,
   "metadata": {},
   "outputs": [
    {
     "data": {
      "text/plain": [
       "29"
      ]
     },
     "execution_count": 62,
     "metadata": {},
     "output_type": "execute_result"
    }
   ],
   "source": [
    "# Indice del promedio mas alto\n",
    "promedio_max = df[\"Promedio\"].idxmax()\n",
    "promedio_max"
   ]
  },
  {
   "cell_type": "code",
   "execution_count": 63,
   "metadata": {},
   "outputs": [
    {
     "data": {
      "text/plain": [
       "321"
      ]
     },
     "execution_count": 63,
     "metadata": {},
     "output_type": "execute_result"
    }
   ],
   "source": [
    "# Indice del numero de valoraciones mas alto\n",
    "num_max = df[\"# de calif.\"].idxmax()\n",
    "num_max"
   ]
  }
 ],
 "metadata": {
  "interpreter": {
   "hash": "31f2aee4e71d21fbe5cf8b01ff0e069b9275f58929596ceb00d14d90e3e16cd6"
  },
  "kernelspec": {
   "display_name": "Python 3.8.10 64-bit",
   "language": "python",
   "name": "python3"
  },
  "language_info": {
   "codemirror_mode": {
    "name": "ipython",
    "version": 3
   },
   "file_extension": ".py",
   "mimetype": "text/x-python",
   "name": "python",
   "nbconvert_exporter": "python",
   "pygments_lexer": "ipython3",
   "version": "3.8.10"
  },
  "orig_nbformat": 4
 },
 "nbformat": 4,
 "nbformat_minor": 2
}
